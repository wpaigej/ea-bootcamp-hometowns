{
 "cells": [
  {
   "cell_type": "markdown",
   "metadata": {},
   "source": [
    "# Vancouver, BC, Canada\n",
    "\n",
    "### 49°15′N, 123°6′W\n",
    "\n",
    "### Population: 2,555,884 (2019) [_Data Source_](http://worldpopulationreview.com/world-cities/vancouver-population/)\n",
    "\n",
    "### Landmark: Science World\n",
    "![image]\n",
    "\n",
    "\n",
    "[image]: science-world.jpg\n",
    "\n",
    "Science World, built for the Expo 1986 world's fair, is a science center contained in a geodesic sphere in downtown Vancouver. The building is run by a nonprofit dedicated to advancing science literacy and education.\n",
    "\n",
    "\n",
    "\n",
    "[_Image Source_](http://www.travelwkly.com/wp-content/uploads/2016/12/Science-World.jpg)"
   ]
  },
  {
   "cell_type": "code",
   "execution_count": null,
   "metadata": {},
   "outputs": [],
   "source": []
  }
 ],
 "metadata": {
  "kernelspec": {
   "display_name": "Python 3",
   "language": "python",
   "name": "python3"
  },
  "language_info": {
   "codemirror_mode": {
    "name": "ipython",
    "version": 3
   },
   "file_extension": ".py",
   "mimetype": "text/x-python",
   "name": "python",
   "nbconvert_exporter": "python",
   "pygments_lexer": "ipython3",
   "version": "3.7.3"
  }
 },
 "nbformat": 4,
 "nbformat_minor": 2
}
