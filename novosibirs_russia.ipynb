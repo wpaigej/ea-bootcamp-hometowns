{
 "cells": [
  {
   "cell_type": "markdown",
   "metadata": {},
   "source": [
    "## Latitute /Longitude of Siberian Town in Russia:\n",
    "\n",
    "55.0084° N, 82.9357° E"
   ]
  },
  {
   "cell_type": "markdown",
   "metadata": {},
   "source": [
    "## Population\n",
    "\n",
    "<a href=\"https://www.citypopulation.de/php/russia-siberia-admin.php?adm2id=50701\" target=\"_blank\"> 1,618,039</a>"
   ]
  },
  {
   "cell_type": "markdown",
   "metadata": {},
   "source": [
    "## Menil Collection\n",
    "\n",
    "![City of Siberian Town in Russia.](https://i.pinimg.com/originals/38/db/06/38db062d68a46be6844e421a9c8d8247.jpg)\n",
    "\n",
    "Novosibirsk - third largest Russian city and the capital of Siberia region. Novosibirsk: Russian city, the administrative center of Siberian Federal District – Inception: 1893 – Elevation: 150 m – Official Website – Local dialing code: 383 – Postal code: 630000."
   ]
  },
  {
   "cell_type": "code",
   "execution_count": null,
   "metadata": {},
   "outputs": [],
   "source": []
  }
 ],
 "metadata": {
  "kernelspec": {
   "display_name": "Python 3",
   "language": "python",
   "name": "python3"
  },
  "language_info": {
   "codemirror_mode": {
    "name": "ipython",
    "version": 3
   },
   "file_extension": ".py",
   "mimetype": "text/x-python",
   "name": "python",
   "nbconvert_exporter": "python",
   "pygments_lexer": "ipython3",
   "version": "3.7.3"
  }
 },
 "nbformat": 4,
 "nbformat_minor": 2
}
