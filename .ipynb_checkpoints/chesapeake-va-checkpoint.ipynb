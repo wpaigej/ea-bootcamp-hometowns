{
 "cells": [
  {
   "cell_type": "markdown",
   "metadata": {},
   "source": [
    "## Lat/Long\n",
    "\n",
    "36.7682° N, 76.2875° W"
   ]
  },
  {
   "cell_type": "markdown",
   "metadata": {},
   "source": [
    "## Population data\n",
    "\n",
    "Estimated 2019 population: 242,634 people\n",
    "\n",
    "Website for the data can be found <a href=\"http://worldpopulationreview.com/us-cities/chesapeake-population/\" target=\"_blank\">here</a>. "
   ]
  },
  {
   "cell_type": "markdown",
   "metadata": {},
   "source": [
    "## Great Bridge Bridge\n",
    "\n",
    "![Great Bridge Bridge, Chesapeake VA](http://www.greatbridgerotaryclub.org/wp-content/uploads/2014/09/great-bridge.jpg)\n",
    "\n",
    "Historic site of the Battle of Great Bridge during the American Revolutionary War."
   ]
  },
  {
   "cell_type": "code",
   "execution_count": null,
   "metadata": {},
   "outputs": [],
   "source": []
  }
 ],
 "metadata": {
  "kernelspec": {
   "display_name": "Python 3",
   "language": "python",
   "name": "python3"
  },
  "language_info": {
   "codemirror_mode": {
    "name": "ipython",
    "version": 3
   },
   "file_extension": ".py",
   "mimetype": "text/x-python",
   "name": "python",
   "nbconvert_exporter": "python",
   "pygments_lexer": "ipython3",
   "version": "3.7.3"
  }
 },
 "nbformat": 4,
 "nbformat_minor": 2
}
